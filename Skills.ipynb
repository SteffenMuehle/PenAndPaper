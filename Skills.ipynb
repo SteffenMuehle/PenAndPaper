{
 "cells": [
  {
   "cell_type": "markdown",
   "metadata": {},
   "source": [
    "[Character creation](#Character-creation)\\\n",
    "[Character check](#Character-check)\\\n",
    "[Functions](#Functions)\\\n",
    "[Skills](#Skills)\\\n",
    "[Characters](#Characters)"
   ]
  },
  {
   "cell_type": "markdown",
   "metadata": {},
   "source": [
    "# Character creation"
   ]
  },
  {
   "cell_type": "code",
   "execution_count": 58,
   "metadata": {},
   "outputs": [],
   "source": [
    "### define \"Character data type\n",
    "mutable struct Character\n",
    "    name::String\n",
    "    age::Int\n",
    "    appearance::String\n",
    "    attributes::Array{Int,1}\n",
    "    skills::Dict\n",
    "end\n",
    "\n",
    "attributeList=[\"Strength\",\"Dexterity\",\"Intelligence\",\"Charisma\",\"Reflex\",\"Perception\"];"
   ]
  },
  {
   "cell_type": "code",
   "execution_count": 39,
   "metadata": {
    "collapsed": true,
    "jupyter": {
     "outputs_hidden": true
    }
   },
   "outputs": [
    {
     "name": "stdout",
     "output_type": "stream",
     "text": [
      "Attribute: Charisma\n",
      "\n",
      " x3:\n",
      "Partying\n",
      "Sex Appeal\n",
      "\n",
      " x2:\n",
      "Propaganda\n",
      "Bard\n",
      "Poetry\n",
      "Hypnosis\n",
      "Persuation\n",
      "Leadership\n",
      "Animal Handling\n",
      "Lying\n",
      "Begging\n",
      "Diplomacy\n",
      "Religious Ritual\n",
      "Teaching\n",
      "Performance\n",
      "Erotic Art\n",
      "Public Speaking\n",
      "Haggling\n",
      "Theology\n",
      "Charming\n",
      "Singing\n",
      "\n",
      " x1:\n",
      "Veterinary\n",
      "Sex\n",
      "Disguise\n",
      "Falconry\n",
      "Gambling\n",
      "Connoisseur\n",
      "Acting\n",
      "Common Sense\n",
      "Meditation\n",
      "Intimidation\n",
      "Carriage\n",
      "Merchant\n",
      "Music\n",
      "Dancing\n",
      "Politics\n",
      "Sociology\n"
     ]
    }
   ],
   "source": [
    "### show list of skills which require given attribute\n",
    "listSkills(\"Charisma\",attributeList,skillList)"
   ]
  },
  {
   "cell_type": "code",
   "execution_count": 226,
   "metadata": {},
   "outputs": [
    {
     "name": "stdout",
     "output_type": "stream",
     "text": [
      "Dexterity\n",
      "Intelligence\n",
      "Charisma\n"
     ]
    }
   ],
   "source": [
    "### show what attributes given skill requires\n",
    "trans(skillList[\"Disguise\"],attributes)"
   ]
  },
  {
   "cell_type": "markdown",
   "metadata": {},
   "source": [
    "---\n",
    "Biggi"
   ]
  },
  {
   "cell_type": "code",
   "execution_count": 67,
   "metadata": {},
   "outputs": [],
   "source": [
    "name=\"Armana Amadan\"\n",
    "age=20\n",
    "appearance=\"tall and pretty, with a scar on her forehead\"\n",
    "attributes=[2,3,5,6,2,4].+5\n",
    "skills=Dict{String,Number}(\n",
    "    \"Acrobatics\"=>1,\n",
    "    \"Danger Sense\"=>4,\n",
    "    \"Blindness\"=>1,\n",
    "    \"Dodge\"=>3,\n",
    "    \"Escape\"=>5,\n",
    "    \"Lip Reading\"=>3,\n",
    "    \"Lockpicking\"=>3,\n",
    "    \"Pickpocket\"=>3,\n",
    "    \"Pressure Points\"=>4,\n",
    "    \"Sleight of Hand\"=>3,\n",
    "    \"Stealth\"=>4,\n",
    "    \"Survival\"=>2,\n",
    "    \"Lying\"=>4\n",
    ")\n",
    "Biggi=Character(name,age,appearance,attributes,skills);"
   ]
  },
  {
   "cell_type": "markdown",
   "metadata": {},
   "source": [
    "# Get EP"
   ]
  },
  {
   "cell_type": "code",
   "execution_count": 159,
   "metadata": {},
   "outputs": [
    {
     "data": {
      "text/plain": [
       "Dict{String,Number} with 14 entries:\n",
       "  \"Lying\"           => 4\n",
       "  \"Sleight of Hand\" => 3\n",
       "  \"Escape\"          => 10\n",
       "  \"Stealth\"         => 4\n",
       "  \"Lip Readig\"      => 2\n",
       "  \"Lockpicking\"     => 3\n",
       "  \"Pickpocket\"      => 3\n",
       "  \"Acrobatics\"      => 1\n",
       "  \"Survival\"        => 2\n",
       "  \"Danger Sense\"    => 4\n",
       "  \"Pressure Points\" => 4\n",
       "  \"Lip Reading\"     => 8\n",
       "  \"Blindness\"       => 1\n",
       "  \"Dodge\"           => 3"
      ]
     },
     "execution_count": 159,
     "metadata": {},
     "output_type": "execute_result"
    }
   ],
   "source": [
    "char=Biggi\n",
    "skl=\"Lip Readig\"\n",
    "getEP!(char,skl)\n",
    "char.skills\n",
    "\n",
    "###delete skill\n",
    "#delete!(char.skills,\"ToBeDeleted\")"
   ]
  },
  {
   "cell_type": "markdown",
   "metadata": {},
   "source": [
    "# Character check"
   ]
  },
  {
   "cell_type": "code",
   "execution_count": 60,
   "metadata": {},
   "outputs": [
    {
     "name": "stdout",
     "output_type": "stream",
     "text": [
      "attributes: [7, 8, 10, 11, 7, 9]\n",
      "used attribute points: 22\n",
      "attribute distribution check: okay\n",
      "used skill points: 22\n",
      "\n",
      "skill distribution: [1, 15, 6, 2, 8, 7]\n",
      "attribute distribution: okay\n"
     ]
    }
   ],
   "source": [
    "char=Biggi\n",
    "println(\"attributes: $(char.attributes)\")\n",
    "println(\"used attribute points: $(sum(char.attributes.-5))\")\n",
    "println(\"attribute distribution check: $(check(char.attributes.-5))\")\n",
    "println(\"used skill points: $(sum(char.attributes.-5))\\n\")\n",
    "\n",
    "atc=attributeCount(char.skills,skillList)\n",
    "println(\"attribute distribution: \"*check(atc))"
   ]
  },
  {
   "cell_type": "markdown",
   "metadata": {},
   "source": [
    "# Functions"
   ]
  },
  {
   "cell_type": "code",
   "execution_count": 147,
   "metadata": {},
   "outputs": [
    {
     "data": {
      "text/plain": [
       "addEP! (generic function with 1 method)"
      ]
     },
     "execution_count": 147,
     "metadata": {},
     "output_type": "execute_result"
    }
   ],
   "source": [
    "### this function returns a list of skills for which\n",
    "### the given attribute \"attr\" is required\n",
    "function listSkills(attr,attributes,skillList)\n",
    "    if typeof(attr)==String\n",
    "        attr=findall(x->x==attr,attributes)[1]\n",
    "    end\n",
    "    println(\"Attribute: $(attributes[attr])\")\n",
    "    for amount in 3:-1:1\n",
    "        println(\"\\n x$(amount):\")\n",
    "        i=0\n",
    "        for s in skillList\n",
    "            i+=1\n",
    "            if s[2][attr]==amount\n",
    "                println(s[1])\n",
    "            end\n",
    "        end\n",
    "    end\n",
    "end\n",
    "\n",
    "\n",
    "### this function translates the array-like output ([1 0 2 0 0 0] and such)\n",
    "### into strings (\"Strength Intelligence Intelligence\")\n",
    "function trans(ar,attr)\n",
    "    i=0\n",
    "    for el in ar\n",
    "        i+=1\n",
    "        rep=copy(el)\n",
    "        while rep>0\n",
    "            rep-=1\n",
    "            println(\"$(attr[i])\")\n",
    "        end\n",
    "    end\n",
    "end\n",
    "\n",
    "\n",
    "### this function counts the attributes required\n",
    "### for the skills of a given char\n",
    "function attributeCount(char,skillList)\n",
    "    attrCount=[0,0,0,0,0,0]\n",
    "    for element in char\n",
    "        attrCount+=skillList[element[1]]\n",
    "    end\n",
    "    println(\"skill distribution: $(attrCount)\")\n",
    "    \n",
    "    return attrCount\n",
    "end\n",
    "\n",
    "\n",
    "### this function checks whether or not\n",
    "### a distribution fulfills the Fibonacci-criterion.\n",
    "function check(AttrCount)\n",
    "    valid=1\n",
    "    s=sort(AttrCount)\n",
    "    if s[2]+s[3]<s[4]\n",
    "        valid=0\n",
    "    elseif s[3]+s[4]<s[5]\n",
    "        valid=0\n",
    "    elseif s[4]+s[5]<s[6]\n",
    "        valid=0\n",
    "    end\n",
    "\n",
    "    if valid==1\n",
    "        return \"okay\"\n",
    "    else\n",
    "        return \"nope\"\n",
    "    end\n",
    "end\n",
    "\n",
    "\n",
    "### this function adds one imaginary skill point (EP) to the skill \"skl\".\n",
    "### Next, if EP exceeds the skill by more than 1, it \"levels up\".\n",
    "function getEP!(char,skl)\n",
    "    try\n",
    "        char.skills[skl]+=1im\n",
    "    catch\n",
    "        char.skills[skl]=1im\n",
    "    end\n",
    "    \n",
    "    if imag(char.skills[skl])>real(char.skills[skl])+1\n",
    "        char.skills[skl]=real(char.skills[skl])+1\n",
    "    end\n",
    "end"
   ]
  },
  {
   "cell_type": "markdown",
   "metadata": {},
   "source": [
    "# Skills\n",
    "\n",
    "Strength, Dexterity, Intelligence, Charisma, Reflex, Perception"
   ]
  },
  {
   "cell_type": "code",
   "execution_count": 2,
   "metadata": {},
   "outputs": [],
   "source": [
    "skillList=Dict(\n",
    "\"Acrobatics\"=>[0,2,0,0,1,0],\n",
    "\"Acting\"=>[0,0,1,1,0,1],\n",
    "\"Alchemy\"=>[0,1,2,0,0,0],\n",
    "\"Anatomy / Physiology\"=>[0,0,3,0,0,0],\n",
    "\"Animal Handling\"=>[0,0,0,2,0,1],\n",
    "\"Archaelogy\"=>[0,0,3,0,0,0],\n",
    "\"Area Knowledge\"=>[0,0,2,0,0,1],\n",
    "\"Armoury\"=>[1,1,1,0,0,0],\n",
    "\"Artillery\"=>[1,2,0,0,0,0],\n",
    "\"Artist\"=>[0,2,1,0,0,0],\n",
    "\"Astronomy\"=>[0,0,2,0,0,1],\n",
    "\"Athletics\"=>[2,1,0,0,0,0],\n",
    "\"Axe\"=>[3,0,0,0,0,0],\n",
    "\"Balance\"=>[1,2,0,0,0,0],\n",
    "\"Bard\"=>[0,0,0,2,0,1],\n",
    "\"Bastard Sword\"=>[2,1,0,0,0,0],\n",
    "\"Begging\"=>[0,0,0,2,0,1],\n",
    "\"Biology\"=>[0,0,2,0,0,1],\n",
    "\"Blindness\"=>[0,1,0,0,0,2],\n",
    "\"Body Language\"=>[0,0,1,0,0,2],\n",
    "\"Bow\"=>[1,2,0,0,0,0],\n",
    "\"Breath Holding\"=>[2,1,0,0,0,0],\n",
    "\"Camouflage / Concealing\"=>[0,1,1,0,0,1],\n",
    "\"Carpentry\"=>[1,2,0,0,0,0],\n",
    "\"Carriage\"=>[0,1,1,1,0,0],\n",
    "\"Cartography\"=>[0,0,3,0,0,0],\n",
    "\"Charming\"=>[0,0,1,2,0,0],\n",
    "\"Claws/Teeth\"=>[2,1,0,0,0,0],\n",
    "\"Climbing\"=>[1,2,0,0,0,0],\n",
    "\"Close Combat\"=>[1,1,0,0,1,0],\n",
    "\"Common Sense\"=>[0,0,1,1,0,1],\n",
    "\"Connoisseur\"=>[0,0,1,1,0,1],\n",
    "\"Cooking\"=>[0,1,0,0,0,2],\n",
    "\"Counterfeiting\"=>[0,2,1,0,0,0],\n",
    "\"Criminology\"=>[0,0,2,0,0,1],\n",
    "\"Crossbow\"=>[2,1,0,0,0,0],\n",
    "\"Cryptography\"=>[0,0,3,0,0,0],\n",
    "\"Dagger\"=>[1,1,0,0,1,0],\n",
    "\"Dancing\"=>[0,2,0,1,0,0],\n",
    "\"Danger Sense\"=>[0,0,0,0,1,2],\n",
    "\"Detect Lies\"=>[0,0,2,0,0,1],\n",
    "\"Diagnosis\"=>[0,0,2,0,0,1],\n",
    "\"Digging\"=>[3,0,0,0,0,0],\n",
    "\"Diplomacy\"=>[0,0,1,2,0,0],\n",
    "\"Disguise\"=>[0,1,1,1,0,0],\n",
    "\"Diving\"=>[2,1,0,0,0,0],\n",
    "\"Dodge\"=>[0,1,0,0,2,0],\n",
    "\"Drug Tolerance\"=>[3,0,0,0,0,0],\n",
    "\"Eavesdropping\"=>[0,0,1,0,0,2],\n",
    "\"Engineer / Mechanics\"=>[1,2,0,0,0,0],\n",
    "\"Erotic Art\"=>[0,1,0,2,0,0],\n",
    "\"Escape\"=>[0,1,1,0,1,0],\n",
    "\"Falconry\"=>[0,1,0,1,0,1],\n",
    "\"Farming\"=>[1,1,1,0,0,0],\n",
    "\"Feeling\"=>[0,1,0,0,0,2],\n",
    "\"First Aid\"=>[0,2,1,0,0,0],\n",
    "\"Fishing\"=>[0,1,1,0,1,0],\n",
    "\"Flint Stone\"=>[0,3,0,0,0,0],\n",
    "\"Forced Entry\"=>[2,1,0,0,0,0],\n",
    "\"Gambling\"=>[0,0,1,1,0,1],\n",
    "\"Gardening\"=>[0,2,0,0,0,1],\n",
    "\"Geology\"=>[0,0,2,0,0,1],\n",
    "\"Great Axe\"=>[2,1,0,0,0,0],\n",
    "\"Great Hammer\"=>[2,1,0,0,0,0],\n",
    "\"Haggling\"=>[0,0,1,2,0,0],\n",
    "\"Halberd\"=>[2,1,0,0,0,0],\n",
    "\"Hammer\"=>[2,1,0,0,0,0],\n",
    "\"Hearing\"=>[0,0,0,0,0,3],\n",
    "\"Heraldry\"=>[0,1,1,0,0,1],\n",
    "\"Herbology\"=>[0,1,2,0,0,0],\n",
    "\"High Pain Threshold\"=>[3,0,0,0,0,0],\n",
    "\"Hiking\"=>[3,0,0,0,0,0],\n",
    "\"Housekeeping\"=>[0,1,1,0,0,1],\n",
    "\"Hypnosis\"=>[0,0,1,2,0,0],\n",
    "\"Interrogation\"=>[0,0,2,0,0,1],\n",
    "\"Intimidation\"=>[1,0,1,1,0,0],\n",
    "\"Jeweler\"=>[0,2,0,0,0,1],\n",
    "\"Jumping\"=>[2,1,0,0,0,0],\n",
    "\"Katana\"=>[1,2,0,0,0,0],\n",
    "\"Knife\"=>[1,1,0,0,1,0],\n",
    "\"Knots\"=>[0,2,1,0,0,0],\n",
    "\"Lance\"=>[1,2,0,0,0,0],\n",
    "\"Law\"=>[0,0,3,0,0,0],\n",
    "\"Leadership\"=>[0,0,1,2,0,0],\n",
    "\"Leather Working\"=>[0,2,1,0,0,0],\n",
    "\"Less Sleep\"=>[2,0,0,0,0,1],\n",
    "\"Lifting\"=>[3,0,0,0,0,0],\n",
    "\"Linguistic\"=>[0,0,2,0,0,1],\n",
    "\"Lip Reading\"=>[0,0,1,0,0,2],\n",
    "\"Literature\"=>[0,0,3,0,0,0],\n",
    "\"Lockpicking\"=>[0,2,1,0,0,0],\n",
    "\"Looting\"=>[0,0,1,0,0,2],\n",
    "\"Lying\"=>[0,0,1,2,0,0],\n",
    "\"Masonry\"=>[1,2,0,0,0,0],\n",
    "\"Mathematics\"=>[0,0,3,0,0,0],\n",
    "\"Meditation\"=>[0,0,1,1,0,1],\n",
    "\"Merchant\"=>[0,0,1,1,1,0],\n",
    "\"Meteorology\"=>[0,0,1,0,0,2],\n",
    "\"Mimicry\"=>[0,1,1,0,0,1],\n",
    "\"Music\"=>[0,2,0,1,0,0],\n",
    "\"Naturalist\"=>[0,0,1,0,0,2],\n",
    "\"Navigation\"=>[0,1,1,0,0,1],\n",
    "\"Observation\"=>[0,0,1,0,0,2],\n",
    "\"Orientation\"=>[0,0,2,0,0,1],\n",
    "\"Parade\"=>[1,1,0,0,1,0],\n",
    "\"Partying\"=>[0,0,0,3,0,0],\n",
    "\"Performance\"=>[0,1,0,2,0,0],\n",
    "\"Persuation\"=>[0,0,1,2,0,0],\n",
    "\"Pharmacy\"=>[0,0,3,0,0,0],\n",
    "\"Physician\"=>[0,1,2,0,0,0],\n",
    "\"Physics\"=>[0,0,3,0,0,0],\n",
    "\"Pickpocket\"=>[0,2,0,0,1,0],\n",
    "\"Poetry\"=>[0,0,1,2,0,0],\n",
    "\"Poisons\"=>[0,1,2,0,0,0],\n",
    "\"Politics\"=>[0,0,2,1,0,0],\n",
    "\"Pressure Points\"=>[0,2,0,0,1,0],\n",
    "\"Propaganda\"=>[0,0,1,2,0,0],\n",
    "\"Public Speaking\"=>[0,0,1,2,0,0],\n",
    "\"Reading\"=>[0,0,3,0,0,0],\n",
    "\"Religious Ritual\"=>[0,0,1,2,0,0],\n",
    "\"Research\"=>[0,0,3,0,0,0],\n",
    "\"Riding\"=>[1,2,0,0,0,0],\n",
    "\"Running\"=>[3,0,0,0,0,0],\n",
    "\"Sailor\"=>[1,2,0,0,0,0],\n",
    "\"Sex Appeal\"=>[0,0,0,3,0,0],\n",
    "\"Sex\"=>[0,1,0,1,0,1],\n",
    "\"Shadowing\"=>[0,1,1,0,0,1],\n",
    "\"Short Sword\"=>[2,1,0,0,0,0],\n",
    "\"Singing\"=>[0,1,0,2,0,0],\n",
    "\"Sleight of Hand\"=>[0,2,0,0,1,0],\n",
    "\"Sling\"=>[1,2,0,0,0,0],\n",
    "\"Smelling\"=>[0,0,0,0,0,3],\n",
    "\"Smith\"=>[1,2,0,0,0,0],\n",
    "\"Smuggling\"=>[0,1,1,0,0,1],\n",
    "\"Sociology\"=>[0,0,1,1,0,1],\n",
    "\"Spear\"=>[1,2,0,0,0,0],\n",
    "\"Stance\"=>[2,1,0,0,0,0],\n",
    "\"Stealth\"=>[0,1,1,0,0,1],\n",
    "\"Streetwise\"=>[0,0,2,0,0,1],\n",
    "\"Surgery\"=>[0,1,2,0,0,0],\n",
    "\"Survival\"=>[1,1,1,0,0,0],\n",
    "\"Swimming\"=>[1,2,0,0,0,0],\n",
    "\"Sword\"=>[2,1,0,0,0,0],\n",
    "\"Tasting\"=>[0,0,0,0,0,3],\n",
    "\"Teaching\"=>[0,0,1,2,0,0],\n",
    "\"Temperature Tolerance\"=>[3,0,0,0,0,0],\n",
    "\"Theology\"=>[0,0,1,2,0,0],\n",
    "\"Tracking\"=>[0,1,0,0,0,2],\n",
    "\"Traps\"=>[0,2,1,0,0,0],\n",
    "\"Two Hander\"=>[2,1,0,0,0,0],\n",
    "\"Veterinary\"=>[0,1,0,1,0,1],\n",
    "\"Vision\"=>[0,0,1,0,0,2],\n",
    "\"Whip\"=>[1,2,0,0,0,0],\n",
    "\"Writing\"=>[0,0,3,0,0,0]\n",
    ");"
   ]
  },
  {
   "cell_type": "markdown",
   "metadata": {},
   "source": [
    "# Characters"
   ]
  },
  {
   "cell_type": "code",
   "execution_count": 20,
   "metadata": {},
   "outputs": [],
   "source": [
    "Benni=[\n",
    "    [\"Balance\",1],\n",
    "    [\"Close Combat\",1],\n",
    "    [\"Parade\",1],\n",
    "    [\"Forced Entry\",3],\n",
    "    [\"Hammer\",7],\n",
    "    [\"High Pain Threshold\",1],\n",
    "    [\"Intimidation\",4],\n",
    "    [\"Jumping\",1],\n",
    "    [\"Lifting\",1],\n",
    "    [\"Running\",1],\n",
    "    [\"Lip Reading\",3],\n",
    "    [\"Danger Sense\",4],\n",
    "    [\"Theology\",4],\n",
    "    [\"Merchant\",4],\n",
    "    [\"Observation\",4]\n",
    "];"
   ]
  },
  {
   "cell_type": "code",
   "execution_count": 3,
   "metadata": {},
   "outputs": [],
   "source": [
    "Jan=[\n",
    "    [\"Bow\",6],\n",
    "    [\"Cooking\",3],\n",
    "    [\"Dancing\",1],\n",
    "    [\"Dodge\",5],\n",
    "    [\"First Aid\",3],\n",
    "    [\"Gambling\",4],\n",
    "    [\"Hearing\",2],\n",
    "    [\"Knife\",3],\n",
    "    [\"Orientation\",3],\n",
    "    [\"Lockpicking\",4],\n",
    "    [\"Reading\",4],\n",
    "    [\"Traps\",2],\n",
    "];"
   ]
  },
  {
   "cell_type": "code",
   "execution_count": 191,
   "metadata": {},
   "outputs": [],
   "source": [
    "Alex=[\n",
    "    [\"Bard\",3],\n",
    "    [\"Begging\",3],\n",
    "    [\"Charming\",3],\n",
    "    [\"Dodge\",3],\n",
    "    [\"Haggling\",3],\n",
    "    [\"Hiking\",1],\n",
    "    [\"Merchant\",3],\n",
    "    [\"Public Speaking\",4],\n",
    "    [\"Religious Ritual\",3],\n",
    "    [\"Sex\",1],\n",
    "    [\"Sex Appeal\",2],\n",
    "    [\"Climbing\",4],\n",
    "    [\"Drug Tolerance\",4],\n",
    "    [\"Balance\",2],\n",
    "    [\"Law\",3],\n",
    "    [\"Danger Sense\",3],\n",
    "];"
   ]
  },
  {
   "cell_type": "code",
   "execution_count": 5,
   "metadata": {},
   "outputs": [],
   "source": [
    "Lukas=[\n",
    "[\"Acting\",3],\n",
    "[\"Artist\",2],\n",
    "[\"Charming\",6],\n",
    "[\"Close Combat\",4],\n",
    "[\"Lip Reading\",5],\n",
    "[\"Public Speaking\",2],\n",
    "[\"Religious Ritual\",2],\n",
    "[\"Singing\",2],\n",
    "[\"Music\",8],\n",
    "[\"Begging\",2],\n",
    "[\"Less Sleep\",2],\n",
    "[\"Drug Tolerance\",2]\n",
    "];"
   ]
  },
  {
   "cell_type": "code",
   "execution_count": 6,
   "metadata": {},
   "outputs": [],
   "source": [
    "Morten=[\n",
    "[\"Bow\",9],\n",
    "[\"Cartography\",1],\n",
    "[\"Athletics\",3],\n",
    "[\"Herbology\",1],\n",
    "[\"Merchant\",3],\n",
    "[\"Observation\",2],\n",
    "[\"Spear\",2],\n",
    "[\"Tracking\",4],\n",
    "[\"Traps\",3],\n",
    "[\"Reading\",3],\n",
    "[\"Swimming\",1],\n",
    "[\"Stealth\",3],\n",
    "[\"Camouflage / Concealing\",2],\n",
    "[\"Knife\",3]\n",
    "];"
   ]
  },
  {
   "cell_type": "code",
   "execution_count": 196,
   "metadata": {},
   "outputs": [],
   "source": [
    "Biggi=Dict(\n",
    "    \"Acrobatics\"=>1,\n",
    "    \"Danger Sense\"=>4,\n",
    "    \"Blindness\"=>1,\n",
    "    \"Dodge\"=>3,\n",
    "    \"Escape\"=>5,\n",
    "    \"Lip Reading\"=>3,\n",
    "    \"Lockpicking\"=>3,\n",
    "    \"Pickpocket\"=>3,\n",
    "    \"Pressure Points\"=>4,\n",
    "    \"Sleight of Hand\"=>3,\n",
    "    \"Stealth\"=>4,\n",
    "    \"Survival\"=>2,\n",
    "    \"Lying\"=>4\n",
    ");"
   ]
  },
  {
   "cell_type": "code",
   "execution_count": 8,
   "metadata": {},
   "outputs": [],
   "source": [
    "fighter=[\n",
    "    [\"Axe\",6],\n",
    "    [\"Dancing\",2],\n",
    "    [\"Hiking\",4],\n",
    "    [\"Stance\",3],\n",
    "    [\"Vision\",4],\n",
    "    [\"Dodge\",5],\n",
    "    [\"Reading\",4],\n",
    "    [\"Leadership\",3],\n",
    "    [\"Stealth\",3],\n",
    "    [\"Hearing\",5],\n",
    "    [\"Haggling\",1],\n",
    "];"
   ]
  },
  {
   "cell_type": "code",
   "execution_count": 9,
   "metadata": {},
   "outputs": [],
   "source": [
    "rogue=[\n",
    "    [\"Climbing\",1],\n",
    "    [\"Acrobatics\",1],\n",
    "    [\"Pickpocket\",4],\n",
    "    [\"Lockpicking\",1],\n",
    "    [\"Reading\",1],\n",
    "    [\"Detect Lies\",1],\n",
    "    [\"Lying\",1],\n",
    "];"
   ]
  }
 ],
 "metadata": {
  "kernelspec": {
   "display_name": "Julia 1.5.2",
   "language": "julia",
   "name": "julia-1.5"
  },
  "language_info": {
   "file_extension": ".jl",
   "mimetype": "application/julia",
   "name": "julia",
   "version": "1.5.2"
  }
 },
 "nbformat": 4,
 "nbformat_minor": 4
}
