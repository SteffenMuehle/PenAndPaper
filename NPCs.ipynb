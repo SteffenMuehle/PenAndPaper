{
 "cells": [
  {
   "cell_type": "code",
   "execution_count": 2,
   "metadata": {
    "collapsed": true,
    "jupyter": {
     "outputs_hidden": true
    }
   },
   "outputs": [],
   "source": [
    "MaleName=[\"Bertrand\",\"Marvus\",\"Ricard\",\"Kyle\",\"Ronart\",\"Pandrick\",\"Perrin\",\"Gawn\",\"Elyas\",\"Huggin\",\"Jock\",\"Wymon\",\n",
    "\"Watkyn\",\"Geffrai\",\"Taro\",\"Garibald\",\"Joren\",\"Viliris\",\"Loveric\",\"Girk\",\"Edon\",\"Fitellus\"\n",
    ",\"Willmot\",\"Lewyn\",\"Berich\",\"Linus\"]\n",
    "\n",
    "FemaleName=[\"Santra\",\"Fani\",\"Tandrielle\",\"Laya\",\"Loreena\",\"Ann\",\"Sally\",\"Mirella\",\"Vesta\",\"Peryna\",\"Josanne\",\"Sibyll\",\n",
    "\"Bettrice\",\"Amata\",\"Alett\"]\n",
    "\n",
    "profession=[\"baker\",\"physician\",\"pharmacist\",\"blacksmith\",\"jeweller\",\"armourer\",\"hunter\",\"innkeeper\",\n",
    "\"stablemaster\",\"brewmaster\",\"wine merchant\",\"blackmarket guy\",\"alchemist\",\"cancellor\",\"knight\",\"nobleman/lady\",\n",
    "\"sailor\",\"captain\",\"mate\",\"mercenary\",\"smuggler\",\"street urchin\",\"farmer\",\"beggar\",\"apprentice\",\"novice\",\"priest\",\n",
    "\"septon\",\"maester\",\"arch maester\",\"high priest\",\"guard\"]\n",
    "\n",
    "attr=[\"strength\",\"charisma\",\"craft\"]\n",
    "char=[\"friendly\",\"cautious\",\"dodgy\",\"greedy\",\"smart\"];"
   ]
  },
  {
   "cell_type": "code",
   "execution_count": null,
   "metadata": {
    "collapsed": true,
    "jupyter": {
     "outputs_hidden": true
    }
   },
   "outputs": [],
   "source": [
    "MaleName=[\"Ronart\",\"Pandrick\",\"Huggin\",\"Geffrai\",\"Viliris\",\"Loveric\",\"Fitellus\"\n",
    ",\"Willmot\",\"Lewyn\",\"Berich\"]\n",
    "\n",
    "FemaleName=[\"Santra\",\"Fani\",\"Tandrielle\",\"Sally\",\"Mirella\",\"Vesta\",\"Peryna\",\"Josanne\",\n",
    "\"Bettrice\",\"Amata\"]\n",
    "\n",
    "profession=[\"baker\",\"physician\",\"pharmacist\",\"blacksmith\",\"jeweller\",\"armourer\",\"hunter\",\"innkeeper\",\n",
    "\"stablemaster\",\"brewmaster\",\"wine merchant\",\"blackmarket guy\",\"alchemist\",\"cancellor\",\"knight\",\"nobleman/lady\",\n",
    "\"sailor\",\"captain\",\"mate\",\"mercenary\",\"smuggler\",\"street urchin\",\"farmer\",\"beggar\",\"apprentice\",\"novice\",\"priest\",\n",
    "\"septon\",\"maester\",\"arch maester\",\"high priest\",\"guard\"]\n",
    "\n",
    "attr=[\"strength\",\"charisma\",\"craft\"]\n",
    "char=[\"friendly\",\"cautious\",\"dodgy\",\"greedy\",\"smart\"];"
   ]
  },
  {
   "cell_type": "code",
   "execution_count": 12,
   "metadata": {},
   "outputs": [
    {
     "name": "stdout",
     "output_type": "stream",
     "text": [
      "hunter\n",
      "\n",
      "friendly: 19\n",
      "cautious: 19\n",
      "dodgy: 4\n",
      "greedy: 16\n",
      "smart: 5\n"
     ]
    }
   ],
   "source": [
    "gender=\"w\"\n",
    "job=\"hunter\"\n",
    "\n",
    "if gender == \"m\"\n",
    "    println(rand(MaleName,1)[1])\n",
    "elseif gender == \"r\"\n",
    "    if rand(1)[1]<0.5\n",
    "        println(rand(MaleName,1)[1])\n",
    "    else\n",
    "        println(rand(FemaleName,1)[1])\n",
    "    end\n",
    "end\n",
    "\n",
    "if job==\"\"\n",
    "    println(rand(profession,1)[1])\n",
    "else\n",
    "    println(job)\n",
    "end\n",
    "\n",
    "println(\"\")\n",
    "for k in 1:length(char)\n",
    "    println(char[k]*\": $(rand(1:20))\")\n",
    "end"
   ]
  },
  {
   "cell_type": "code",
   "execution_count": 11,
   "metadata": {
    "scrolled": true
   },
   "outputs": [
    {
     "data": {
      "text/plain": [
       "3"
      ]
     },
     "execution_count": 11,
     "metadata": {},
     "output_type": "execute_result"
    }
   ],
   "source": [
    "Perrin\n",
    "hunter\n",
    "\n"
   ]
  },
  {
   "cell_type": "code",
   "execution_count": null,
   "metadata": {
    "collapsed": true,
    "jupyter": {
     "outputs_hidden": true
    }
   },
   "outputs": [],
   "source": [
    "Taro\n",
    "hunter\n",
    "\n",
    "complained about troll\n",
    "friendly: 15\n",
    "cautious: 19\n",
    "dodgy: 9\n",
    "greedy: 15\n",
    "smart: 15"
   ]
  },
  {
   "cell_type": "code",
   "execution_count": null,
   "metadata": {
    "collapsed": true,
    "jupyter": {
     "outputs_hidden": true
    }
   },
   "outputs": [],
   "source": [
    "Huggin\n",
    "innkeeper\n",
    "\n",
    "grumpy\n",
    "\n",
    "friendly: 3\n",
    "cautious: 6\n",
    "dodgy: 4\n",
    "greedy: 3\n",
    "smart: 5"
   ]
  },
  {
   "cell_type": "code",
   "execution_count": null,
   "metadata": {
    "collapsed": true,
    "jupyter": {
     "outputs_hidden": true
    }
   },
   "outputs": [],
   "source": [
    "Loveric\n",
    "guard\n",
    "\n",
    "bow 4\n",
    "let them into barracks\n",
    "lost against matze at shooting arrows\n",
    "\n",
    "friendly: 11\n",
    "cautious: 16\n",
    "dodgy: 18\n",
    "greedy: 15\n",
    "smart: 5"
   ]
  },
  {
   "cell_type": "code",
   "execution_count": null,
   "metadata": {
    "collapsed": true,
    "jupyter": {
     "outputs_hidden": true
    }
   },
   "outputs": [],
   "source": [
    "Bertrand\n",
    "tutor\n",
    "\n",
    "about 20yo\n",
    "\n",
    "friendly: 12\n",
    "cautious: 19\n",
    "dodgy: 19\n",
    "greedy: 2\n",
    "smart: 15"
   ]
  },
  {
   "cell_type": "code",
   "execution_count": null,
   "metadata": {
    "collapsed": true,
    "jupyter": {
     "outputs_hidden": true
    }
   },
   "outputs": [],
   "source": [
    "Viliris\n",
    "key warden\n",
    "\n",
    "friendly: 20\n",
    "cautious: 9\n",
    "dodgy: 14\n",
    "greedy: 15\n",
    "smart: 19"
   ]
  },
  {
   "cell_type": "code",
   "execution_count": null,
   "metadata": {
    "collapsed": true,
    "jupyter": {
     "outputs_hidden": true
    }
   },
   "outputs": [],
   "source": [
    "Nel\n",
    "key warden\n",
    "\n",
    "friendly: 14\n",
    "cautious: 16\n",
    "dodgy: 4\n",
    "greedy: 5\n",
    "smart: 12\n"
   ]
  },
  {
   "cell_type": "code",
   "execution_count": null,
   "metadata": {
    "collapsed": true,
    "jupyter": {
     "outputs_hidden": true
    }
   },
   "outputs": [],
   "source": [
    "Theodulus\n",
    "arch maester\n",
    "\n",
    "friendly: 6\n",
    "cautious: 14\n",
    "dodgy: 2\n",
    "greedy: 7\n",
    "smart: 14"
   ]
  },
  {
   "cell_type": "code",
   "execution_count": null,
   "metadata": {
    "collapsed": true,
    "jupyter": {
     "outputs_hidden": true
    }
   },
   "outputs": [],
   "source": [
    "Kelmen\n",
    "captain\n",
    "\n",
    "sails to Sa'Saari every year for ceremony\n",
    "\n",
    "friendly: 12\n",
    "cautious: 7\n",
    "dodgy: 9\n",
    "greedy: 6\n",
    "smart: 2"
   ]
  },
  {
   "cell_type": "code",
   "execution_count": null,
   "metadata": {
    "collapsed": true,
    "jupyter": {
     "outputs_hidden": true
    }
   },
   "outputs": [],
   "source": [
    "Roricus\n",
    "maester\n",
    "\n",
    "friendly: 7\n",
    "cautious: 13\n",
    "dodgy: 9\n",
    "greedy: 12\n",
    "smart: 14"
   ]
  },
  {
   "cell_type": "code",
   "execution_count": null,
   "metadata": {
    "collapsed": true,
    "jupyter": {
     "outputs_hidden": true
    }
   },
   "outputs": [],
   "source": [
    "Balvin\n",
    "novice\n",
    "priest who picked them up\n",
    "\n",
    "friendly: 13\n",
    "cautious: 2\n",
    "dodgy: 7\n",
    "greedy: 8\n",
    "smart: 20"
   ]
  },
  {
   "cell_type": "code",
   "execution_count": null,
   "metadata": {
    "collapsed": true,
    "jupyter": {
     "outputs_hidden": true
    }
   },
   "outputs": [],
   "source": [
    "MaleName=[\"Bertrand\",\"Marvus\",\"Ricard\",\"Kyle\",\"Ronart\",\"Pandrick\",\"Perrin\",\"Gawn\",\"Elyas\",\"Huggin\",\"Jock\",\"Wymon\",\n",
    "\"Watkyn\",\"Nel\",\"Theodulus\",\"Geffrai\",\"Taro\",\"Garibald\",\"Balvin\",\"Joren\",\"Viliris\",\"Loveric\",\"Girk\",\"Edon\",\"Fitellus\"\n",
    ",\"Roricus\",\"Willmot\",\"Lewyn\",\"Kelmen\",\"Berich\",\"Linus\"]\n",
    "\n",
    "FemaleName=[\"Santra\",\"Fani\",\"Tandrielle\",\"Laya\",\"Loreena\",\"Ann\",\"Sally\",\"Mirella\",\"Vesta\",\"Peryna\",\"Josanne\",\"Sibyll\",\n",
    "\"Bettrice\",\"Amata\",\"Alett\"]\n",
    "\n",
    "profession=[\"baker\",\"physician\",\"pharmacist\",\"blacksmith\",\"jeweller\",\"armourer\",\"hunter\",\"innkeeper\",\n",
    "\"stablemaster\",\"brewmaster\",\"wine merchant\",\"blackmarket guy\",\"alchemist\",\"cancellor\",\"knight\",\"nobleman/lady\",\n",
    "\"sailor\",\"captain\",\"mate\",\"mercenary\",\"smuggler\",\"street urchin\",\"farmer\",\"beggar\",\"apprentice\",\"novice\",\"priest\",\n",
    "\"septon\",\"maester\",\"arch maester\",\"high priest\",\"guard\"]\n",
    "\n",
    "attr=[\"strength\",\"charisma\",\"craft\"]\n",
    "char=[\"friendly\",\"cautious\",\"dodgy\",\"greedy\",\"smart\"];"
   ]
  }
 ],
 "metadata": {
  "kernelspec": {
   "display_name": "Julia 1.5.2",
   "language": "julia",
   "name": "julia-1.5"
  },
  "language_info": {
   "file_extension": ".jl",
   "mimetype": "application/julia",
   "name": "julia",
   "version": "1.5.2"
  }
 },
 "nbformat": 4,
 "nbformat_minor": 4
}
