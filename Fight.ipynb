{
 "cells": [
  {
   "cell_type": "code",
   "execution_count": 11,
   "metadata": {},
   "outputs": [
    {
     "name": "stdout",
     "output_type": "stream",
     "text": [
      "\n",
      "Wolf1\n",
      "Wolf2\n",
      "Wolf3\n",
      "Yavor\n",
      "Ubi\n",
      "Wolf1\n",
      "Wolf2\n",
      "Wolf3\n",
      "Yavor\n",
      "Ubi\n",
      "Wolf1\n",
      "Wolf2\n",
      "Wolf3\n",
      "Yavor\n",
      "Ubi\n",
      "Wolf1\n",
      "Wolf2\n",
      "Wolf3\n",
      "Yavor\n",
      "Ubi\n",
      "Wolf1\n",
      "Wolf2\n",
      "Wolf3\n",
      "Yavor\n",
      "Ubi\n",
      "Wolf1\n",
      "Wolf2\n",
      "Wolf3\n",
      "Wolf1\n",
      "Wolf2\n",
      "Wolf3\n",
      "Yavor\n",
      "Ubi\n",
      "Wolf1\n",
      "Wolf2\n",
      "Wolf3\n",
      "Yavor\n",
      "Ubi\n",
      "Wolf1\n",
      "Wolf2\n",
      "Wolf3\n",
      "Yavor\n",
      "Ubi\n",
      "Wolf1\n",
      "Wolf2\n",
      "Wolf3\n",
      "Yavor\n",
      "Ubi\n",
      "Wolf1\n",
      "Wolf2\n",
      "\n"
     ]
    }
   ],
   "source": [
    "init=[6,6,7,7,7]\n",
    "surprise=[0,0,0,0,0] #'1' if high ground\n",
    "time=1./init-surprise./init\n",
    "Δt=1./init\n",
    "names=[\"Yavor\",\"Ubi\",\"Wolf1\",\"Wolf2\",\"Wolf3\"]\n",
    "\n",
    "string=\"\"\n",
    "turn=0\n",
    "\n",
    "\n",
    "for k in 1:50\n",
    "    min=1e10\n",
    "    for i in 1:length(init)\n",
    "        if time[i]<min\n",
    "            turn=i\n",
    "            min=time[i]\n",
    "        end\n",
    "    end\n",
    "    #println(round.(time,3))\n",
    "    string=string*names[turn]*\"\\n\"\n",
    "    time[turn]+=Δt[turn]\n",
    "end\n",
    "\n",
    "println(\"\\n\"*string)"
   ]
  },
  {
   "cell_type": "code",
   "execution_count": null,
   "metadata": {
    "collapsed": true
   },
   "outputs": [],
   "source": [
    "##"
   ]
  },
  {
   "cell_type": "code",
   "execution_count": 213,
   "metadata": {
    "collapsed": true
   },
   "outputs": [
    {
     "data": {
      "text/plain": [
       "21-element Array{Float64,1}:\n",
       " 1.4 \n",
       " 1.7 \n",
       " 2.04\n",
       " 2.42\n",
       " 2.85\n",
       " 0.0 \n",
       " 0.0 \n",
       " 0.0 \n",
       " 0.0 \n",
       " 0.0 \n",
       " 0.0 \n",
       " 0.0 \n",
       " 0.0 \n",
       " 0.0 \n",
       " 0.0 \n",
       " 0.0 \n",
       " 0.0 \n",
       " 0.0 \n",
       " 0.0 \n",
       " 0.0 \n",
       " 0.0 "
      ]
     },
     "execution_count": 213,
     "metadata": {},
     "output_type": "execute_result"
    }
   ],
   "source": [
    "DEF=0\n",
    "Trials=100000\n",
    "Z=zeros(21)\n",
    "\n",
    "for ATT in -5:-1\n",
    "\n",
    "for i in 1:Trials\n",
    "    Z[ATT+6]+=maximum([0,ATT+rand(1:20)-(DEF+rand(1:20))])\n",
    "end\n",
    "\n",
    "end\n",
    "    \n",
    "round.(Z/Trials,2)"
   ]
  }
 ],
 "metadata": {
  "kernelspec": {
   "display_name": "Julia 0.6.0",
   "language": "julia",
   "name": "julia-0.6"
  },
  "language_info": {
   "file_extension": ".jl",
   "mimetype": "application/julia",
   "name": "julia",
   "version": "0.6.0"
  }
 },
 "nbformat": 4,
 "nbformat_minor": 2
}
